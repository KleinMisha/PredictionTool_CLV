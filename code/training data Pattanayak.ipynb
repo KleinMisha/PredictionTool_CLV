{
 "cells": [
  {
   "cell_type": "code",
   "execution_count": 1,
   "metadata": {
    "collapsed": false
   },
   "outputs": [],
   "source": [
    "%matplotlib inline \n",
    "import numpy as np\n",
    "import pandas as pd \n",
    "import matplotlib.pylab as plt \n",
    "\n",
    "import CRISPR_TargetRecognition as CRISPR \n",
    "reload(CRISPR);\n",
    "\n",
    "\n",
    "import seaborn as sns \n",
    "sns.set_style('ticks');\n",
    "current_color = sns.color_palette(); \n",
    "w\n",
    "def chi_squared(xdata, ydata, yerr, params,model):\n",
    "    model_result = model(xdata,params)\n",
    "    residual = ( (model_result-ydata)/yerr )**2\n",
    "    return np.sum(residual)\n"
   ]
  },
  {
   "cell_type": "code",
   "execution_count": 8,
   "metadata": {
    "collapsed": false
   },
   "outputs": [],
   "source": [
    "ydata = np.loadtxt('generated_pclv_noise_0.0.txt')\n",
    "xdata = np.loadtxt('Pattanayak_CLTA1_100nM_NGG_sequences.txt')\n",
    "yerr  = np.ones(len(ydata))\n",
    "model = CRISPR.Pclv\n",
    "\n",
    "DeltaPAM = 0.2\n",
    "DeltaC = 0.5\n",
    "DeltaI = 4.0\n",
    "DeltaCLV = 2.0\n",
    "Delta = [DeltaPAM, DeltaC, DeltaI, DeltaCLV]\n",
    "\n",
    "# print chi_squared(xdata[0:5],ydata[0:5],yerr[0:5],Delta,model)\n",
    "# print ydata[0:5]"
   ]
  },
  {
   "cell_type": "code",
   "execution_count": 7,
   "metadata": {
    "collapsed": false
   },
   "outputs": [
    {
     "data": {
      "text/plain": [
       "18476"
      ]
     },
     "execution_count": 7,
     "metadata": {},
     "output_type": "execute_result"
    }
   ],
   "source": [
    "training_set = np.loadtxt('Pattanayak_CLTA1_100nM_NGG_sequences.txt')\n",
    "training_set[0]\n",
    "\n",
    "len(training_set)"
   ]
  },
  {
   "cell_type": "code",
   "execution_count": 8,
   "metadata": {
    "collapsed": true
   },
   "outputs": [],
   "source": [
    "x = np.loadtxt('generated_pclv_noise_0.txt')"
   ]
  },
  {
   "cell_type": "code",
   "execution_count": 7,
   "metadata": {
    "collapsed": false
   },
   "outputs": [
    {
     "data": {
      "text/plain": [
       "(18476, 20)"
      ]
     },
     "execution_count": 7,
     "metadata": {},
     "output_type": "execute_result"
    }
   ],
   "source": [
    "xdata.shape "
   ]
  },
  {
   "cell_type": "code",
   "execution_count": 21,
   "metadata": {
    "collapsed": false
   },
   "outputs": [
    {
     "data": {
      "text/plain": [
       "array([ 1.])"
      ]
     },
     "execution_count": 21,
     "metadata": {},
     "output_type": "execute_result"
    }
   ],
   "source": [
    "CRISPR.compare_to_on_target([xdata[0]],Delta)"
   ]
  },
  {
   "cell_type": "code",
   "execution_count": 19,
   "metadata": {
    "collapsed": false
   },
   "outputs": [
    {
     "name": "stdout",
     "output_type": "stream",
     "text": [
      "[False False False False]\n",
      "[ True  True  True  True]\n",
      "False\n",
      "True\n"
     ]
    }
   ],
   "source": [
    "X  = np.array([16,16,16,16])\n",
    "U  = np.array([15,15,15,15])\n",
    "L  = np.array([0.1,0.1,0.1,0.1])\n",
    "print np.array( (X < U)  )\n",
    "print np.array( (X > L) )\n",
    "print  (X < U).all() and (X > L).all() \n",
    "print (X > L).all()"
   ]
  },
  {
   "cell_type": "code",
   "execution_count": 44,
   "metadata": {
    "collapsed": false
   },
   "outputs": [
    {
     "name": "stdout",
     "output_type": "stream",
     "text": [
      "[ 0.85577419  0.38872106 -0.97296815  0.31290554 -0.59914316 -0.05546368\n",
      " -0.20388726  0.52613971 -0.64470765 -0.89675844  0.25244474 -0.94793567\n",
      " -0.33064538  0.71568479  0.41080553 -0.48331728  0.66635327  0.54588504\n",
      " -0.54018066 -0.75001178 -0.05532799 -0.82200162  0.98975812 -0.48804185\n",
      " -0.88470045  0.17236692  0.5456625  -0.08730889 -0.75351172  0.33801004\n",
      "  0.00120698  0.09930752  0.02263765 -0.94312809 -0.2785503  -0.84355042\n",
      "  0.16576096 -0.97968469  0.30940938 -0.93616658 -0.78907106  0.64288282\n",
      " -0.71319553  0.79505633 -0.06355764  0.77127635 -0.82766151 -0.31753677\n",
      "  0.81482244 -0.28809486]\n"
     ]
    }
   ],
   "source": [
    "noise_amplitude=0.99 \n",
    "noise = np.random.uniform(-noise_amplitude,noise_amplitude,size=50)\n",
    "print noise "
   ]
  },
  {
   "cell_type": "code",
   "execution_count": 45,
   "metadata": {
    "collapsed": false
   },
   "outputs": [
    {
     "name": "stdout",
     "output_type": "stream",
     "text": [
      "[ 1.85577419  1.36524624  0.0265749   1.2907123   0.39562713  0.9322136\n",
      "  0.7857264   1.50982256  0.35149364  0.10213772  1.035041    0.04302682\n",
      "  0.5531657   1.51805306  1.2482932   0.45716544  1.54042004  1.42905609\n",
      "  0.42506888  0.23754668  0.89765708  0.16913967  1.92329504  0.49485742\n",
      "  0.11144824  1.14516966  1.50980531  0.89151796  0.07083872  0.38453317\n",
      "  0.28773872  0.43854334  0.40795767  0.02268773  0.37640895  0.08162596\n",
      "  0.60822377  0.01303287  0.84002466  0.04095102  0.15720976  1.22447499\n",
      "  0.21376138  0.03542769  0.01848187  0.03495836  0.00553644  0.02192437\n",
      "  0.05830182  0.03693147]\n"
     ]
    }
   ],
   "source": [
    "P = CRISPR.compare_to_on_target(xdata[0:len(noise)],Delta) \n",
    "print P + noise*P "
   ]
  },
  {
   "cell_type": "markdown",
   "metadata": {},
   "source": [
    "## fit to generated noisy training data \n",
    "Sequence library of Pattanayak used. \n",
    "Noise added to  theoretically calculated data. Relative noise amplitude chosen. \n",
    "\\begin{equation}\n",
    "    P_{\\rm{clv}}^{\\rm{data}} = P_{\\rm{clv}}^{\\rm{theory}} (1 + \\sigma)\n",
    "\\end{equation}\n",
    "with $\\sigma$ being the noise amplitude. "
   ]
  },
  {
   "cell_type": "code",
   "execution_count": 51,
   "metadata": {
    "collapsed": false
   },
   "outputs": [
    {
     "data": {
      "text/plain": [
       "<matplotlib.text.Text at 0x117d1cd90>"
      ]
     },
     "execution_count": 51,
     "metadata": {},
     "output_type": "execute_result"
    },
    {
     "data": {
      "image/png": "[encoded data removed]",
      "text/plain": [
       "<matplotlib.figure.Figure at 0x1171dadd0>"
      ]
     },
     "metadata": {},
     "output_type": "display_data"
    },
    {
     "data": {
      "image/png": "[encoded data removed]",
      "text/plain": [
       "<matplotlib.figure.Figure at 0x117d1d4d0>"
      ]
     },
     "metadata": {},
     "output_type": "display_data"
    }
   ],
   "source": [
    "noisevalues = np.loadtxt('noisevalues.txt')\n",
    "\n",
    "# Exact values at zero noise \n",
    "PAM = 0.2\n",
    "C = 0.5\n",
    "I = 4.0\n",
    "CLV = 2.0\n",
    "\n",
    "DeltaPAM = []\n",
    "DeltaC = []\n",
    "DeltaI = []\n",
    "DeltaCLV = []\n",
    "for noise_amp in noisevalues:\n",
    "    fit_result = pd.read_table('fit_10_2_2018_noise_'+ str(noise_amp)+'.txt')\n",
    "    DeltaPAM.append( fit_result.iloc[-1]['Parameter 1']  )\n",
    "    DeltaC.append( fit_result.iloc[-1]['Parameter 2']  )\n",
    "    DeltaI.append( fit_result.iloc[-1]['Parameter 3']  )\n",
    "    DeltaCLV.append( fit_result.iloc[-1]['Parameter 4']  )\n",
    "\n",
    "mimic_noise = pd.DataFrame()\n",
    "mimic_noise['$\\\\Delta_{PAM}$']= DeltaPAM\n",
    "mimic_noise['$\\\\Delta_{C}$'] = DeltaC\n",
    "mimic_noise['$\\\\Delta_{I}$'] = DeltaI\n",
    "mimic_noise['$\\\\Delta_{CLV}$'] = DeltaCLV\n",
    "mimic_noise['noise_amplitude'] = noisevalues\n",
    "mimic_noise.plot(kind='bar',x='noise_amplitude')\n",
    "sns.despine()\n",
    "plt.legend(loc='upper center',frameon=True)\n",
    "plt.ylabel('Result of fit $k_BT$')\n",
    "plt.xlabel('maximum noise amplitude')\n",
    "plt.axhline(PAM, color=sns.color_palette()[0],linestyle='dashed')\n",
    "plt.axhline(C,color=sns.color_palette()[1],linestyle='dashed')\n",
    "plt.axhline(I,color=sns.color_palette()[2],linestyle='dashed')\n",
    "plt.axhline(CLV,color=sns.color_palette()[3],linestyle='dashed')\n",
    "\n",
    "\n",
    "mimic_noise['$\\Delta\\Delta_{PAM}$']= np.abs((np.array(DeltaPAM) - PAM)/PAM *100)\n",
    "mimic_noise['$\\Delta\\Delta_{C}$'] = np.abs((np.array(DeltaC) - C)/C *100)\n",
    "mimic_noise['$\\Delta\\Delta_{I}$'] = np.abs((np.array(DeltaI) - I)/I *100)\n",
    "mimic_noise['$\\Delta\\Delta_{CLV}$'] = np.abs((np.array(DeltaCLV) - CLV)/CLV *100)\n",
    "mimic_noise[['$\\Delta\\Delta_{PAM}$' ,'$\\Delta\\Delta_{C}$','$\\Delta\\Delta_{I}$','$\\Delta\\Delta_{CLV}$','noise_amplitude']].plot(\n",
    "    kind='bar', x='noise_amplitude')\n",
    "sns.despine()\n",
    "plt.legend(loc='best',frameon=True)\n",
    "plt.ylabel('Relative error compared to ideal values (%)')\n",
    "plt.xlabel('maximum noise amplitude')"
   ]
  },
  {
   "cell_type": "code",
   "execution_count": 12,
   "metadata": {
    "collapsed": false
   },
   "outputs": [
    {
     "data": {
      "text/plain": [
       "0.18552978965999997"
      ]
     },
     "execution_count": 12,
     "metadata": {},
     "output_type": "execute_result"
    }
   ],
   "source": [
    "noise_amp = noisevalues[0]\n",
    "fit_result = pd.read_table('fit_10_2_2018_noise_'+ str(noise_amp)+'.txt')\n"
   ]
  },
  {
   "cell_type": "markdown",
   "metadata": {},
   "source": [
    "# Fit to entire dataset "
   ]
  },
  {
   "cell_type": "code",
   "execution_count": 21,
   "metadata": {
    "collapsed": false
   },
   "outputs": [
    {
     "data": {
      "text/plain": [
       "<matplotlib.collections.PathCollection at 0x113c2dbd0>"
      ]
     },
     "execution_count": 21,
     "metadata": {},
     "output_type": "execute_result"
    },
    {
     "data": {
      "image/png": "[encoded data removed]",
      "text/plain": [
       "<matplotlib.figure.Figure at 0x10f609a90>"
      ]
     },
     "metadata": {},
     "output_type": "display_data"
    }
   ],
   "source": [
    "score_file = '../data/20_2_2018/Pattanayak_CLTA1_100nM_NGG_scores.txt'\n",
    "scores = np.loadtxt(score_file)\n",
    "seq_file = '../data/20_2_2018/Pattanayak_CLTA1_100nM_NGG_sequences.txt'\n",
    "sequences = np.loadtxt(seq_file)\n",
    "fitvals = '../data/20_2_2018/fit2.txt'\n",
    "df = pd.read_table(fitvals)\n",
    "\n",
    "\n",
    "\n",
    "DeltaPAM = df.iloc[-1]['Parameter 1']\n",
    "DeltaC = df.iloc[-1]['Parameter 2']\n",
    "DeltaI = df.iloc[-1]['Parameter 3']\n",
    "DeltaCLV = df.iloc[-1]['Parameter 4']\n",
    "Delta = [DeltaPAM, DeltaC, DeltaI, DeltaCLV]\n",
    "\n",
    "Pclv = CRISPR.compare_to_on_target(sequences,Delta,model='minimal_model')\n",
    "\n",
    "\n",
    "\n",
    "plt.scatter(Pclv, scores)"
   ]
  },
  {
   "cell_type": "code",
   "execution_count": 66,
   "metadata": {
    "collapsed": false
   },
   "outputs": [
    {
     "name": "stdout",
     "output_type": "stream",
     "text": [
      "[ 7  8  9 10]\n",
      "[1 2 3 4]\n"
     ]
    }
   ],
   "source": [
    "\n",
    "n = 4\n",
    "x = np.arange(10)+1\n",
    "print x[-n::]\n",
    "print x[:n]"
   ]
  },
  {
   "cell_type": "code",
   "execution_count": 3,
   "metadata": {
    "collapsed": false
   },
   "outputs": [],
   "source": [
    "x = pd.read_excel('../data/Pattanayak_Liu_NBT_2673_Data.xlsx')"
   ]
  },
  {
   "cell_type": "code",
   "execution_count": 12,
   "metadata": {
    "collapsed": false
   },
   "outputs": [],
   "source": [
    "Pattanayak = x \n",
    "guide_name = 'CLTA1'\n",
    "concentration = '100nM'\n",
    "PAM_seq = 'NGG'\n",
    "training = Pattanayak[(Pattanayak.Concentration == concentration)\n",
    "                      & (Pattanayak.PAM == PAM_seq)\n",
    "                      & (Pattanayak.name == guide_name)]\n",
    "\n",
    "\n",
    "\n",
    "filename = \"Pattanayak_\" + guide_name + \"_\" + concentration + \"_\" + PAM_seq + \"_scores.txt\"\n"
   ]
  },
  {
   "cell_type": "code",
   "execution_count": 13,
   "metadata": {
    "collapsed": false
   },
   "outputs": [],
   "source": [
    "T = np.array(training.Score)\n",
    "np.savetxt(filename,T)"
   ]
  },
  {
   "cell_type": "code",
   "execution_count": 24,
   "metadata": {
    "collapsed": false
   },
   "outputs": [],
   "source": [
    "PATH_HPC05 = '/home/mklein1/Training_Pclv/'\n",
    "date = '20_2_2018/'\n",
    "\n",
    "f = open('jobs_full_dataset_' + guide_name + \"_\" + concentration + \"_\" + PAM_seq +'.txt','w')\n",
    "filename1 =  PATH_HPC05 + date +\"Pattanayak_\" + guide_name + \"_\" + concentration + \"_\" + PAM_seq + \"_sequences.txt\"\n",
    "filename2 =   PATH_HPC05 + date +\"Pattanayak_\" + guide_name + \"_\" + concentration + \"_\" + PAM_seq + \"_scores.txt\"\n",
    "\n",
    "nmbr_runs = 3 \n",
    "for i in range(1,nmbr_runs+1):\n",
    "    results =  PATH_HPC05 + date +'fit' +str(i) + '.txt'\n",
    "    monitor =  PATH_HPC05 + date +'monitor' + str(i) + '.txt'\n",
    "    f.write( filename1 + ' ' + filename2 + ' ' + results + ' ' + monitor + '\\n')\n",
    "f.close()"
   ]
  },
  {
   "cell_type": "code",
   "execution_count": null,
   "metadata": {
    "collapsed": true
   },
   "outputs": [],
   "source": []
  }
 ],
 "metadata": {
  "anaconda-cloud": {},
  "kernelspec": {
   "display_name": "Python [Root]",
   "language": "python",
   "name": "Python [Root]"
  },
  "language_info": {
   "codemirror_mode": {
    "name": "ipython",
    "version": 2
   },
   "file_extension": ".py",
   "mimetype": "text/x-python",
   "name": "python",
   "nbconvert_exporter": "python",
   "pygments_lexer": "ipython2",
   "version": "2.7.11"
  }
 },
 "nbformat": 4,
 "nbformat_minor": 0
}
